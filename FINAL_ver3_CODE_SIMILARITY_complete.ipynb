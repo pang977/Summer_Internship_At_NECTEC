{
 "cells": [
  {
   "cell_type": "markdown",
   "source": [
    "# Code Final Project_Similarity_Assessment_eMENSCR"
   ],
   "metadata": {}
  },
  {
   "cell_type": "markdown",
   "source": [
    "- ประเมินความคล้ายกันของ 2 โครงการใดๆ ในระบบ eMENSCR ในแง่มุมต่างๆ จากไฟล์ document : https://opendata.nesdc.go.th/dataset/emenscr-project\r\n",
    "\r\n",
    "- ไฟล์ Doc แสดง dictionary ของชุดข้อมูล :  https://docs.google.com/spreadsheets/d/1v1m6sCiS53SRHwSk7yyxpnmFqA8sVKSNKlIR8poZpGM/edit#gid=0"
   ],
   "metadata": {}
  },
  {
   "cell_type": "markdown",
   "source": [
    "### ไอเดียของ Project similarity\r\n",
    "\r\n",
    "ทำเหมือนการกรอกชื่อของโครงการ 2 สองโครงการเพื่อตรวจสอบความคล้ายกันของทั้ง 2 ว่ามีความคล้ายกันเท่าไหร่ แล้วคล้ายกันไหม แล้วคล้ายสุดในแง่มุมไหน พร้อมโชว์ตารางข้อมูลของ 2 โครงการให้ดูภาพรวมอีกที"
   ],
   "metadata": {}
  },
  {
   "cell_type": "markdown",
   "source": [
    "## Data and Cleaning"
   ],
   "metadata": {}
  },
  {
   "cell_type": "code",
   "execution_count": 1,
   "source": [
    "import json \r\n",
    "import pandas as pd \r\n",
    "from pandas.io.json import json_normalize \r\n",
    "\r\n",
    "document = pd.read_json('C://Users//Admin pc//Downloads//python//documents.json')\r\n",
    "pd.set_option(\"display.max_columns\", None)\r\n",
    "# pd.set_option('display.max_rows', None)\r\n",
    "pd.options.display.max_colwidth = 70\r\n",
    "# pd.set_option('display.max_colwidth', None)"
   ],
   "outputs": [],
   "metadata": {}
  },
  {
   "cell_type": "markdown",
   "source": [
    "ลบ column ที่รู้สึกว่าจะไม่ใช้ออกไป"
   ],
   "metadata": {}
  },
  {
   "cell_type": "code",
   "execution_count": 2,
   "source": [
    "document_drop = document.drop(labels=['access_token', 'approver', 'approvers',\r\n",
    " 'big_project_code','budget_government_province','budget_government_province_group','draft_complete','fiscal_quarter',\r\n",
    " 'fiscal_year','government_policy_main_2019','government_policy_priority_2019','governmentpolicies_check','group',\r\n",
    " 'level3_id_thai','national_security_plan_2020','problem','progress','progress_gantt_chart','progress_indicators',\r\n",
    " 'progress_outcome','progress_output','progress_plan12','progress_reform','progress_reports','progress_security',\r\n",
    " 'progress_strategies','project_gantt_chart','result','session','step','suggestion','ts','uid','username',\r\n",
    " 'fiscal_change','project_idea','value_chain_flag','0','source_project65_code_en','source_project65_id','eplanid','org_l4',\r\n",
    " 'org_l5','budget_government_other_amount','budget_government_other_source','budget_loan_domestic','budget_loan_foreign','budget_other',\r\n",
    " 'related_government_ministers','related_laws','budget_plan_list','gfmis_id','ministry_plan','national_strategic_goals',   'national_strategy_direct',\r\n",
    " 'national_strategy_secondary','national_security_plan','masterplan_secondary','national_reform_secondary','national_reform_direct'], axis=1)"
   ],
   "outputs": [],
   "metadata": {}
  },
  {
   "cell_type": "markdown",
   "source": [
    "ใช้ code_en เป็น index เพื่อจะได้ค้นหาง่ายขึ้น"
   ],
   "metadata": {}
  },
  {
   "cell_type": "code",
   "execution_count": 3,
   "source": [
    "document_drop = document_drop.set_index('code_en')"
   ],
   "outputs": [],
   "metadata": {}
  },
  {
   "cell_type": "markdown",
   "source": [
    "ปรับ format ของวันที่ให้อยู่ในรูปเดียวกันทั้ง 2 column"
   ],
   "metadata": {}
  },
  {
   "cell_type": "code",
   "execution_count": 4,
   "source": [
    "lst_start = []\r\n",
    "\r\n",
    "for i in document_drop.start_date[0:44513]:\r\n",
    "    lst_start.append(i)\r\n",
    "for u in document_drop.start_date[44513:]:\r\n",
    "    ui = u[6:]+'-'+u[3:5]+'-'+u[0:2]\r\n",
    "    lst_start.append(ui)\r\n",
    "\r\n",
    "document_drop['start_date'] = lst_start"
   ],
   "outputs": [],
   "metadata": {}
  },
  {
   "cell_type": "code",
   "execution_count": 5,
   "source": [
    "lst_end = []\r\n",
    "\r\n",
    "for o in document_drop.end_date[0:44513]:\r\n",
    "    lst_end.append(o)\r\n",
    "for p in document_drop.end_date[44513:]:\r\n",
    "    pi = p[6:]+'-'+p[3:5]+'-'+p[0:2]\r\n",
    "    lst_end.append(pi)\r\n",
    "\r\n",
    "document_drop['end_date'] = lst_end"
   ],
   "outputs": [],
   "metadata": {}
  },
  {
   "cell_type": "markdown",
   "source": [
    "## Example Data\r\n",
    "\r\n",
    "แสดงหน้าตาของข้อมูลที่ใช้"
   ],
   "metadata": {}
  },
  {
   "cell_type": "code",
   "execution_count": 6,
   "source": [
    "a = 'sdu6701-61-0004'\r\n",
    "b = 'nacc003432-61-0001'"
   ],
   "outputs": [],
   "metadata": {}
  },
  {
   "cell_type": "markdown",
   "source": [
    "column : start_date and end_date"
   ],
   "metadata": {}
  },
  {
   "cell_type": "code",
   "execution_count": 7,
   "source": [
    " from datetime import date\r\n",
    "\r\n",
    " # project 1 start-end\r\n",
    "start_project_1 = date(int(document_drop.start_date[a][0:4]),int(document_drop.start_date[b][5:7]) , int(document_drop.start_date[a][8:]))\r\n",
    "end_project_1 = date(int(document_drop.end_date[a][0:4]), int(document_drop.end_date[b][5:7]), int(document_drop.end_date[a][8:]))\r\n",
    "\r\n",
    "    # project 2 start-end\r\n",
    "start_project_2 = date(int(document_drop.start_date[b][0:4]),int(document_drop.start_date[b][5:7]) , int(document_drop.start_date[b][8:]))\r\n",
    "end_project_2 = date(int(document_drop.end_date[b][0:4]), int(document_drop.end_date[b][5:7]), int(document_drop.end_date[b][8:]))\r\n",
    "\r\n",
    "print('start project 1 : ',start_project_1)\r\n",
    "print('end project 1 : ',end_project_1)\r\n",
    "print('------------------------------------------')\r\n",
    "print('start project 2 : ',start_project_1)\r\n",
    "print('end project 2 : ',end_project_1)"
   ],
   "outputs": [
    {
     "output_type": "stream",
     "name": "stdout",
     "text": [
      "start project 1 :  2560-10-01\n",
      "end project 1 :  2565-12-01\n",
      "------------------------------------------\n",
      "start project 2 :  2560-10-01\n",
      "end project 2 :  2565-12-01\n"
     ]
    }
   ],
   "metadata": {}
  },
  {
   "cell_type": "markdown",
   "source": [
    "column : masterplan"
   ],
   "metadata": {}
  },
  {
   "cell_type": "code",
   "execution_count": 8,
   "source": [
    "print(f'masterplan 1 : {document_drop.loc[a][14].get(\"masterplan\")}')\r\n",
    "print(f'masterplan 2 : {document_drop.loc[b][14].get(\"masterplan\")}')"
   ],
   "outputs": [
    {
     "output_type": "stream",
     "name": "stdout",
     "text": [
      "masterplan 1 : 1201\n",
      "masterplan 2 : 2101\n"
     ]
    }
   ],
   "metadata": {}
  },
  {
   "cell_type": "markdown",
   "source": [
    "column : name"
   ],
   "metadata": {}
  },
  {
   "cell_type": "code",
   "execution_count": 9,
   "source": [
    "print('name 1 : ',document_drop.name[a])\r\n",
    "print('name 2 : ',document_drop.name[b])"
   ],
   "outputs": [
    {
     "output_type": "stream",
     "name": "stdout",
     "text": [
      "name 1 :  โครงการบริการวิชาการบนพื้นฐานความตระหนักในความรับผิดชอบต่อสังคม\n",
      "name 2 :  โครงการวันต่อต้านคอร์รัปชันสากล วันที่ 9 ธันวาคม 2560\n"
     ]
    }
   ],
   "metadata": {}
  },
  {
   "cell_type": "markdown",
   "source": [
    "column : target_group"
   ],
   "metadata": {}
  },
  {
   "cell_type": "code",
   "execution_count": 10,
   "source": [
    "print('target_group 1 : ',document_drop.target_group[a])\r\n",
    "print('target_group 2 : ',document_drop.target_group[b])"
   ],
   "outputs": [
    {
     "output_type": "stream",
     "name": "stdout",
     "text": [
      "target_group 1 :  นักเรียน นักศึกษา ครู บุคลากรทางการศึกษา และประชาชนทั่วไป\n",
      "target_group 2 :  1. นักเรียน นิสิต นักศึกษา สถาบันการศึกษาและบุคลากรทางการศึกษา\n",
      "2. กลุ่มภาคประชาชน\n",
      "3.องค์กร หน่วยงาน ทั้งภาครัฐและเอกชน ภาคเครือข่าย และทุกภาคส่วน\n",
      "4.คณะกรรมการ ป.ป.ช. ผู้บริหารสำนักงาน ป.ป.ช. และเจ้าหน้าที่\n",
      "5. สื่อมวลชน\n"
     ]
    }
   ],
   "metadata": {}
  },
  {
   "cell_type": "markdown",
   "source": [
    "column : expected_results "
   ],
   "metadata": {}
  },
  {
   "cell_type": "code",
   "execution_count": 11,
   "source": [
    "print('expected_results 1 : ',document_drop.expected_results[a])\r\n",
    "print('expected_results 2 : ',document_drop.expected_results[b])"
   ],
   "outputs": [
    {
     "output_type": "stream",
     "name": "stdout",
     "text": [
      "expected_results 1 :  นักเรียน นักศึกษา ครู บุคลากรทางการศึกษา และประชาชนทั่วไป ได้รับการยกระดับความรู้และความเข้าใจ ส่งเสริมการเรียนรู้ตลอดชีวิต และสามารถนำความรู้ที่ได้จากการบริการวิชาการไปประยุกต์ใช้ในการดำรงชีวิตประจำวันและมีคุณภาพชีวิตที่ดีขึ้น\n",
      "expected_results 2 :  1. สังคมและทุกภาคส่วน ตระหนักในผลเสียหายร้ายแรงที่เกิดขึ้นจาการทุจริตคอร์รัปชัน\n",
      "2. เกิดการประสานความร่วมมือระหว่่างองค์กร ภาคีเครือข่าย หน่วยงาน และทุกภาคส่วนร่วมมือกันในการป้องกันการทุจริต ลดปัญหาทุจริตคอร์รัปชันในประเทศไทย\n",
      "3. เกิดภาพลักษณ์ที่ดีแก่ประเทศ\n",
      "4. เกิดกลุ่มเครือข่ายป้องกันการทุจริตที่ยั่งยืน\n"
     ]
    }
   ],
   "metadata": {}
  },
  {
   "cell_type": "markdown",
   "source": [
    "column : outcome"
   ],
   "metadata": {}
  },
  {
   "cell_type": "code",
   "execution_count": 12,
   "source": [
    "print('outcome 1 :',document_drop.outcome[a])\r\n",
    "print('outcome 2 :',document_drop.outcome[b])"
   ],
   "outputs": [
    {
     "output_type": "stream",
     "name": "stdout",
     "text": [
      "outcome 1 : เป้าหมายเชิงคุณภาพ : ผู้เข้ารับบริการได้รับความรู้ มีความเข้าใจ ในเรื่องที่ให้บริการวิชาการและสามารถนำไปประยุกต์ใช้ในชีวิตประจำวันได้ ร้อยละ 85\n",
      "outcome 2 : ระดับค่าความตระหนักรู้และมีจิตสำนึกไม่ทนต่อการทุจริตไม่น้อยกว่าร้อยละ 80 \n"
     ]
    }
   ],
   "metadata": {}
  },
  {
   "cell_type": "markdown",
   "source": [
    "column : expenditure"
   ],
   "metadata": {}
  },
  {
   "cell_type": "code",
   "execution_count": 13,
   "source": [
    "document_drop['expenditure'].value_counts()"
   ],
   "outputs": [
    {
     "output_type": "execute_result",
     "data": {
      "text/plain": [
       "โครงการที่ใช้งบประมาณ       43720\n",
       "โครงการที่ไม่ใช้งบประมาณ     1154\n",
       "Name: expenditure, dtype: int64"
      ]
     },
     "metadata": {},
     "execution_count": 13
    }
   ],
   "metadata": {}
  },
  {
   "cell_type": "code",
   "execution_count": 14,
   "source": [
    "print('expenditure 1 : ',document_drop.expenditure[a],'  expenditure 2 : ',document_drop.expenditure[b])"
   ],
   "outputs": [
    {
     "output_type": "stream",
     "name": "stdout",
     "text": [
      "expenditure 1 :  โครงการที่ใช้งบประมาณ   expenditure 2 :  โครงการที่ใช้งบประมาณ\n"
     ]
    }
   ],
   "metadata": {}
  },
  {
   "cell_type": "markdown",
   "source": [
    "column : method"
   ],
   "metadata": {}
  },
  {
   "cell_type": "code",
   "execution_count": 15,
   "source": [
    "document_drop['method'].value_counts()"
   ],
   "outputs": [
    {
     "output_type": "execute_result",
     "data": {
      "text/plain": [
       "ดำเนินการเอง               34072\n",
       "ดำเนินการเอง และจัดจ้าง     5893\n",
       "จัดจ้าง                     4909\n",
       "Name: method, dtype: int64"
      ]
     },
     "metadata": {},
     "execution_count": 15
    }
   ],
   "metadata": {}
  },
  {
   "cell_type": "code",
   "execution_count": 16,
   "source": [
    "print('method 1 : ',document_drop.method[a],'  method 2 : ',document_drop.method[b])"
   ],
   "outputs": [
    {
     "output_type": "stream",
     "name": "stdout",
     "text": [
      "method 1 :  ดำเนินการเอง   method 2 :  ดำเนินการเอง และจัดจ้าง\n"
     ]
    }
   ],
   "metadata": {}
  },
  {
   "cell_type": "markdown",
   "source": [
    "column : outcome "
   ],
   "metadata": {}
  },
  {
   "cell_type": "code",
   "execution_count": 17,
   "source": [
    "print('outcome 1 :',document_drop.outcome[a])\r\n",
    "print('outcome 2 :',document_drop.outcome[b])"
   ],
   "outputs": [
    {
     "output_type": "stream",
     "name": "stdout",
     "text": [
      "outcome 1 : เป้าหมายเชิงคุณภาพ : ผู้เข้ารับบริการได้รับความรู้ มีความเข้าใจ ในเรื่องที่ให้บริการวิชาการและสามารถนำไปประยุกต์ใช้ในชีวิตประจำวันได้ ร้อยละ 85\n",
      "outcome 2 : ระดับค่าความตระหนักรู้และมีจิตสำนึกไม่ทนต่อการทุจริตไม่น้อยกว่าร้อยละ 80 \n"
     ]
    }
   ],
   "metadata": {}
  },
  {
   "cell_type": "markdown",
   "source": [
    "## Function Count Date\r\n",
    "ใช้กับการคำนวณจำนวนวันที่ใช้ดำเนินการของโครงการ\r\n",
    "\r\n",
    "- start_date , end_date :  วันเริ่มต้นและวันสิ้นสุดโครงการ"
   ],
   "metadata": {}
  },
  {
   "cell_type": "code",
   "execution_count": 18,
   "source": [
    "from datetime import date\r\n",
    "\r\n",
    "def count_date(a,b):\r\n",
    "\r\n",
    "    # project 1 start-end\r\n",
    "    start_project_1 = date(int(document_drop.start_date[a][0:4]),int(document_drop.start_date[b][5:7]) , int(document_drop.start_date[a][8:]))\r\n",
    "    end_project_1 = date(int(document_drop.end_date[a][0:4]), int(document_drop.end_date[b][5:7]), int(document_drop.end_date[a][8:]))\r\n",
    "\r\n",
    "    # project 2 start-end\r\n",
    "    start_project_2 = date(int(document_drop.start_date[b][0:4]),int(document_drop.start_date[b][5:7]) , int(document_drop.start_date[b][8:]))\r\n",
    "    end_project_2 = date(int(document_drop.end_date[b][0:4]), int(document_drop.end_date[b][5:7]), int(document_drop.end_date[b][8:]))\r\n",
    "\r\n",
    "    days_project_1 = end_project_1 - start_project_1\r\n",
    "    days_project_1= days_project_1.days\r\n",
    "    days_project_2 = end_project_2 - start_project_2\r\n",
    "    days_project_2 = days_project_2.days\r\n",
    "\r\n",
    "    # ref diff value // หาร max // overlap https://www.calculatorsoup.com/calculators/algebra/percent-difference-calculator.php\r\n",
    "\r\n",
    "    if days_project_1 > days_project_2 :\r\n",
    "        days = days_project_1 - days_project_2\r\n",
    "        similar = 1-((days/(days_project_1))) \r\n",
    "\r\n",
    "    elif days_project_1 < days_project_2 :\r\n",
    "        days = days_project_2 - days_project_1\r\n",
    "        similar = 1-((days/(days_project_2))) \r\n",
    "        \r\n",
    "    else :\r\n",
    "        similar = 1\r\n",
    "\r\n",
    "    return float(similar)"
   ],
   "outputs": [],
   "metadata": {}
  },
  {
   "cell_type": "markdown",
   "source": [
    "ตัวอย่างการใช้โค้ด"
   ],
   "metadata": {}
  },
  {
   "cell_type": "code",
   "execution_count": 19,
   "source": [
    "name_project_input1 = 'sdu6701-61-0004'\r\n",
    "name_project_input2 = 'nacc003432-61-0001'"
   ],
   "outputs": [],
   "metadata": {}
  },
  {
   "cell_type": "code",
   "execution_count": 20,
   "source": [
    "count_date(name_project_input1,name_project_input2)"
   ],
   "outputs": [
    {
     "output_type": "execute_result",
     "data": {
      "text/plain": [
       "0.03232644409114993"
      ]
     },
     "metadata": {},
     "execution_count": 20
    }
   ],
   "metadata": {}
  },
  {
   "cell_type": "markdown",
   "source": [
    "## Function similar of name and other\r\n",
    "\r\n",
    "ใช้สำหรับคำนวณค่าความคล้ายจากการตัดคำ โดยส่วนนี้จะใช้กับข้อมูลที่เป็นตัวอักษรเป็นส่วนใหญ่\r\n",
    "- masterplan : ตัวเลขที่บ้งบอกว่าโครงการนั้นมันเหมือนกันรึเปล่า \r\n",
    "- name :  ชื่อโครงการภาษาไทย \r\n",
    "- target_group : กลุ่มเป้าหมาย\r\n",
    "- expected_results : ผลที่คาดหวัง\r\n",
    "- outcome : เป้าหมายเชิงผลลัพธ์\r\n",
    "\r\n",
    "https://stackoverflow.com/questions/15173225/calculate-cosine-similarity-given-2-sentence-strings\r\n",
    "\r\n",
    "https://notebook.community/gojomo/gensim/docs/notebooks/soft_cosine_tutorial\r\n",
    "\r\n",
    "https://www.softnix.co.th/2019/05/29/similarity-%E0%B8%84%E0%B8%A7%E0%B8%B2%E0%B8%A1%E0%B9%80%E0%B8%AB%E0%B8%A1%E0%B8%B7%E0%B8%AD%E0%B8%99%E0%B8%97%E0%B8%B5%E0%B9%88%E0%B9%81%E0%B8%95%E0%B8%81%E0%B8%95%E0%B9%88%E0%B8%B2%E0%B8%87/"
   ],
   "metadata": {}
  },
  {
   "cell_type": "code",
   "execution_count": 21,
   "source": [
    "import re, math\r\n",
    "from collections import Counter\r\n",
    "from pythainlp.corpus import thai_stopwords\r\n",
    "from pythainlp.tokenize import word_tokenize\r\n",
    "\r\n",
    "stop = tuple(thai_stopwords())\r\n",
    "\r\n",
    "def get_cosine(vec1, vec2):\r\n",
    "\r\n",
    "    intersection = set(vec1.keys()) & set(vec2.keys())\r\n",
    "    # print('intersec : ',intersection)\r\n",
    "    numerator = sum([vec1[x] * vec2[x] for x in intersection])\r\n",
    "\r\n",
    "    sum1 = sum([vec1[x]**2 for x in vec1.keys()])\r\n",
    "    sum2 = sum([vec2[x]**2 for x in vec2.keys()])\r\n",
    "    denominator = math.sqrt(sum1) * math.sqrt(sum2)\r\n",
    "\r\n",
    "    # print('numerator : ',numerator)\r\n",
    "    # print('deniminator : ',denominator)\r\n",
    "\r\n",
    "    if not denominator:\r\n",
    "        return 0.0\r\n",
    "    else:\r\n",
    "        return float(numerator) / denominator\r\n",
    "\r\n",
    "def text_to_vector(text): \r\n",
    "    \r\n",
    "    a = word_tokenize(text)\r\n",
    "    w = [i for i in a if not i in stop ]\r\n",
    "    w = [i for i in w if not '\\n' in i]\r\n",
    "    w = [i for i in w if not '\\t' in i]\r\n",
    "    w = [i for i in w if not '\\\\' in i]\r\n",
    "    w = [i for i in w if not '(' in i]\r\n",
    "    w = [i for i in w if not ')' in i]\r\n",
    "    w = [i for i in w if not ']' in i]\r\n",
    "    w = [i for i in w if not '[' in i]\r\n",
    "    w = [i for i in w if not '{' in i]\r\n",
    "    w = [i for i in w if not '}' in i]\r\n",
    "    w = [i for i in w if not '/' in i]\r\n",
    "    w = [i for i in w if not '-' in i]\r\n",
    "    w = [i for i in w if not '•' in i]\r\n",
    "    w = [i for i in w if not ':' in i]\r\n",
    "    w = [i for i in w if not ' ' in i]\r\n",
    "    w = [i for i in w if not 'โครงการ' in i]\r\n",
    "    w = [i for i in w if not 'แผนงาน' in i]\r\n",
    "\r\n",
    "    # print(w)\r\n",
    "\r\n",
    "    return Counter(w)\r\n",
    "\r\n",
    "def get_similarity(a, b):\r\n",
    "\r\n",
    "    a = text_to_vector(a) \r\n",
    "    b = text_to_vector(b)\r\n",
    "\r\n",
    "    # print(a)\r\n",
    "    # print(b)\r\n",
    "\r\n",
    "    return get_cosine(a, b)"
   ],
   "outputs": [],
   "metadata": {}
  },
  {
   "cell_type": "markdown",
   "source": [
    "ตัวอย่างการใช้โค้ด"
   ],
   "metadata": {}
  },
  {
   "cell_type": "code",
   "execution_count": 22,
   "source": [
    "get_similarity(document_drop.target_group[name_project_input1],document_drop.target_group[name_project_input2])"
   ],
   "outputs": [
    {
     "output_type": "execute_result",
     "data": {
      "text/plain": [
       "0.3706246583305506"
      ]
     },
     "metadata": {},
     "execution_count": 22
    }
   ],
   "metadata": {}
  },
  {
   "cell_type": "markdown",
   "source": [
    "## Function expenditure and method\r\n",
    "\r\n",
    "ใช้สำหรับเปรียบเทียบข้อมูลที่เป็นตัวอักษรตายตัว\r\n",
    "- expenditure : ลักษณะโครงการ \r\n",
    "- method : วิธีการดำเนินการ"
   ],
   "metadata": {}
  },
  {
   "cell_type": "code",
   "execution_count": 23,
   "source": [
    "def sameornot(a,b):\r\n",
    "    \r\n",
    "    if a == b :\r\n",
    "       \r\n",
    "        c =  ' 1 ' \r\n",
    "\r\n",
    "    else : \r\n",
    "        \r\n",
    "        c =  ' 0 ' \r\n",
    "  \r\n",
    "    return c\r\n",
    "\r\n",
    "    # เก็บแบบนี้จะทำให้ตอนเรียงหาแง่มุมที่คล้ายกันมากที่สุดไม่โดยนำไปเรียงอยู่ด้านหน้า"
   ],
   "outputs": [],
   "metadata": {}
  },
  {
   "cell_type": "markdown",
   "source": [
    "ตัวอย่างการใช้โค้ด"
   ],
   "metadata": {}
  },
  {
   "cell_type": "code",
   "execution_count": 24,
   "source": [
    "sameornot(document_drop.method[name_project_input1],document_drop.method[name_project_input2])"
   ],
   "outputs": [
    {
     "output_type": "execute_result",
     "data": {
      "text/plain": [
       "' 0 '"
      ]
     },
     "metadata": {},
     "execution_count": 24
    }
   ],
   "metadata": {}
  },
  {
   "cell_type": "markdown",
   "source": [
    "## Function summary cosine value \r\n",
    "\r\n",
    "เป็นการรวบรวมข้อมูลมาแสดงในรูป dictionary พร้อมค้นหาแง่มุมที่คล้ายกันมากที่สุด"
   ],
   "metadata": {}
  },
  {
   "cell_type": "code",
   "execution_count": 25,
   "source": [
    "import numpy as np\r\n",
    "\r\n",
    "def sumtable(name_project_input1,name_project_input2):\r\n",
    "\r\n",
    "    datasim = np.array([\r\n",
    "        (get_similarity(document_drop.name[name_project_input1],document_drop.name[name_project_input2]),\r\n",
    "        get_similarity(document_drop.target_group[name_project_input1],document_drop.target_group[name_project_input2]),\r\n",
    "        get_similarity(document_drop.expected_results[name_project_input1],document_drop.expected_results[name_project_input2]),\r\n",
    "        get_similarity(document_drop.outcome[name_project_input1],document_drop.outcome[name_project_input2]),\r\n",
    "        sameornot(document_drop.expenditure[name_project_input1],document_drop.expenditure[name_project_input2]),\r\n",
    "        sameornot(document_drop.method[name_project_input1],document_drop.method[name_project_input2]),\r\n",
    "        count_date(name_project_input1,name_project_input2))\r\n",
    "    ])\r\n",
    "\r\n",
    "    df_sim = pd.DataFrame(datasim,columns=(\"name\",\"target_group\",\"expected_results\",\"outcome\",\"expendingture\",\"method\",\"date\"))\r\n",
    "\r\n",
    "    #เก็บผสมทั้งตัวเลขและตัวอักษรแล้วมาเรียงจะได้เรียงในรูปแบบที่เราต้องการ\r\n",
    "    sorted_df = df_sim.sort_values(df_sim.last_valid_index(), axis=1 ,ascending=False)\r\n",
    "    \r\n",
    "    # แปลง value ใน dict ให้เป็น float เพื่อแสดงค่าที่เรียงแล้วในรูปแบบเดียวกันด้วย\r\n",
    "    \r\n",
    "    dictsort = {} \r\n",
    "    # dictsort = sorted_df.to_dict(orient='records')\r\n",
    "\r\n",
    "    for i in sorted_df.to_dict(orient='list'):\r\n",
    "        for j in sorted_df.to_dict(orient='list')[i]:\r\n",
    "            dictsort[i] = float(j)\r\n",
    "\r\n",
    "    print(dictsort)\r\n",
    "\r\n",
    "    print(\" \")\r\n",
    "    print(\"------------------------------------------------------\")\r\n",
    "    print(\" \")\r\n",
    "    print(f'เกี่ยวข้องกันมากที่สุดในแง่มุม : {list(dictsort.keys())[0]} โดยมีคะแนนเท่ากับ {list(dictsort.values())[0]}')\r\n",
    "\r\n",
    "    if list(dictsort.keys())[0] == 'name' :\r\n",
    "        print(f'name overlap : {overlapstr(document_drop.name[name_project_input1],document_drop.name[name_project_input2])}')\r\n",
    "    elif list(dictsort.keys())[0] == 'target_group' :\r\n",
    "        print(f'target_group overlap : {overlapstr(document_drop.target_group[name_project_input1],document_drop.target_group[name_project_input2])}')\r\n",
    "    elif list(dictsort.keys())[0] == 'expected_results' :\r\n",
    "        print(f'expected_results overlap : {overlapstr(document_drop.expected_results[name_project_input1],document_drop.expected_results[name_project_input2])}')\r\n",
    "    elif list(dictsort.keys())[0] == 'outcome' :\r\n",
    "        print(f'outcome overlap : {overlapstr(document_drop.outcome[name_project_input1],document_drop.outcome[name_project_input2])}')\r\n",
    "    else : #  list(dictsort.keys())[0] == 'date' \r\n",
    "        print(f'date overlap : {dateoverlap(name_project_input1,name_project_input2)}')\r\n",
    "\r\n",
    "    return sorted_df"
   ],
   "outputs": [],
   "metadata": {}
  },
  {
   "cell_type": "markdown",
   "source": [
    "ตัวอย่างการใช้โค้ด\r\n",
    "\r\n",
    "** แนะนำให้รันโค้ดด้านล่างก่อน โค้ด overlap **"
   ],
   "metadata": {}
  },
  {
   "cell_type": "code",
   "execution_count": 28,
   "source": [
    "sumtable(name_project_input1,name_project_input2)"
   ],
   "outputs": [
    {
     "output_type": "stream",
     "name": "stdout",
     "text": [
      "{'target_group': 0.3706246583305506, 'outcome': 0.09245003270420486, 'date': 0.03232644409114993, 'name': 0.0, 'expected_results': 0.0, 'expendingture': 1.0, 'method': 0.0}\n",
      " \n",
      "------------------------------------------------------\n",
      " \n",
      "เกี่ยวข้องกันมากที่สุดในแง่มุม : target_group โดยมีคะแนนเท่ากับ 0.3706246583305506\n",
      "target_group overlap : ['นักเรียน', 'นักศึกษา', 'บุคลากร', 'การศึกษา', 'ประชาชน']\n"
     ]
    },
    {
     "output_type": "execute_result",
     "data": {
      "text/plain": [
       "         target_group              outcome                 date name  \\\n",
       "0  0.3706246583305506  0.09245003270420486  0.03232644409114993  0.0   \n",
       "\n",
       "  expected_results expendingture method  \n",
       "0              0.0            1      0   "
      ],
      "text/html": [
       "<div>\n",
       "<style scoped>\n",
       "    .dataframe tbody tr th:only-of-type {\n",
       "        vertical-align: middle;\n",
       "    }\n",
       "\n",
       "    .dataframe tbody tr th {\n",
       "        vertical-align: top;\n",
       "    }\n",
       "\n",
       "    .dataframe thead th {\n",
       "        text-align: right;\n",
       "    }\n",
       "</style>\n",
       "<table border=\"1\" class=\"dataframe\">\n",
       "  <thead>\n",
       "    <tr style=\"text-align: right;\">\n",
       "      <th></th>\n",
       "      <th>target_group</th>\n",
       "      <th>outcome</th>\n",
       "      <th>date</th>\n",
       "      <th>name</th>\n",
       "      <th>expected_results</th>\n",
       "      <th>expendingture</th>\n",
       "      <th>method</th>\n",
       "    </tr>\n",
       "  </thead>\n",
       "  <tbody>\n",
       "    <tr>\n",
       "      <th>0</th>\n",
       "      <td>0.3706246583305506</td>\n",
       "      <td>0.09245003270420486</td>\n",
       "      <td>0.03232644409114993</td>\n",
       "      <td>0.0</td>\n",
       "      <td>0.0</td>\n",
       "      <td>1</td>\n",
       "      <td>0</td>\n",
       "    </tr>\n",
       "  </tbody>\n",
       "</table>\n",
       "</div>"
      ]
     },
     "metadata": {},
     "execution_count": 28
    }
   ],
   "metadata": {}
  },
  {
   "cell_type": "markdown",
   "source": [
    "## Function overlap\r\n",
    "\r\n",
    "1. ใช้สำหรับข้อมูลที่เป็นตัวอักษรเป็นส่วนใหญ่ได้แก่ name , target_group , expected_results , outcome \r\n",
    "2. ใช้สำหรับข้อมูลที่เป็นตัวเลขได้แก่ start_date , end_date"
   ],
   "metadata": {}
  },
  {
   "cell_type": "code",
   "execution_count": 27,
   "source": [
    "def overlapstr(a,b) :\r\n",
    "    \r\n",
    "    a1 = text_to_vector(a)\r\n",
    "    b1 = text_to_vector(b)\r\n",
    "    \r\n",
    "    list_overlap = []\r\n",
    "\r\n",
    "    for i in a1 :\r\n",
    "        for j in b1 :\r\n",
    "            if i == j :\r\n",
    "                list_overlap.append(i)\r\n",
    "    \r\n",
    "    return list_overlap\r\n"
   ],
   "outputs": [],
   "metadata": {}
  },
  {
   "cell_type": "markdown",
   "source": [
    "ตัวอย่างการใช้โค้ด"
   ],
   "metadata": {}
  },
  {
   "cell_type": "code",
   "execution_count": 29,
   "source": [
    "print(f'name overlap : {overlapstr(document_drop.target_group[name_project_input1],document_drop.target_group[name_project_input2])}')"
   ],
   "outputs": [
    {
     "output_type": "stream",
     "name": "stdout",
     "text": [
      "name overlap : ['นักเรียน', 'นักศึกษา', 'บุคลากร', 'การศึกษา', 'ประชาชน']\n"
     ]
    }
   ],
   "metadata": {}
  },
  {
   "cell_type": "code",
   "execution_count": 30,
   "source": [
    "from datetime import datetime\r\n",
    "from collections import namedtuple\r\n",
    "\r\n",
    "def dateoverlap(name_project_input1,name_project_input2):\r\n",
    "\r\n",
    "    Range = namedtuple('Range', ['start', 'end'])\r\n",
    "\r\n",
    "    r1 = Range(start=datetime(int(document_drop.start_date[name_project_input1][0:4]),int(document_drop.start_date[name_project_input1][5:7]) , int(document_drop.start_date[name_project_input1][8:])), \r\n",
    "         end=datetime(int(document_drop.end_date[name_project_input1][0:4]),int(document_drop.end_date[name_project_input1][5:7]) , int(document_drop.end_date[name_project_input1][8:])))\r\n",
    "    r2 = Range(start=datetime(int(document_drop.start_date[name_project_input2][0:4]),int(document_drop.start_date[name_project_input2][5:7]) , int(document_drop.start_date[name_project_input2][8:])), \r\n",
    "         end=datetime(int(document_drop.end_date[name_project_input2][0:4]), int(document_drop.end_date[name_project_input2][5:7]), int(document_drop.end_date[name_project_input2][8:])))\r\n",
    "         \r\n",
    "    latest_start = max(r1.start, r2.start)\r\n",
    "    earliest_end = min(r1.end, r2.end)\r\n",
    "    delta = (earliest_end - latest_start).days + 1\r\n",
    "    overlap = max(0, delta)\r\n",
    "\r\n",
    "    print(f'Project_1_Start : {document_drop.start_date[name_project_input1]}  Project_1_End : {document_drop.end_date[name_project_input1]}')\r\n",
    "    print(f'Project_2_Start : {document_drop.start_date[name_project_input2]}  Project_2_End : {document_drop.end_date[name_project_input2]}')\r\n",
    "    \r\n",
    "    return overlap"
   ],
   "outputs": [],
   "metadata": {}
  },
  {
   "cell_type": "markdown",
   "source": [
    "ตัวอย่างการใช้โค้ด"
   ],
   "metadata": {}
  },
  {
   "cell_type": "code",
   "execution_count": 31,
   "source": [
    "dateoverlap(name_project_input1,name_project_input2)"
   ],
   "outputs": [
    {
     "output_type": "stream",
     "name": "stdout",
     "text": [
      "Project_1_Start : 2560-10-01  Project_1_End : 2565-09-01\n",
      "Project_2_Start : 2560-10-01  Project_2_End : 2560-12-01\n"
     ]
    },
    {
     "output_type": "execute_result",
     "data": {
      "text/plain": [
       "62"
      ]
     },
     "metadata": {},
     "execution_count": 31
    }
   ],
   "metadata": {}
  },
  {
   "cell_type": "markdown",
   "source": [
    "## Function else\r\n",
    "เป็นฟังก์ชั่นที่รวมการเรียกใช้โค้ดในการหาค่าความคล้ายกันของแต่ละ column\r\n",
    "1. count_date ใช้กับวันที่เปรียบเทียบในด้านจำนวนวันที่ใช้จัดทำโครงการ\r\n",
    "- start_date , end_date :  วันเริ่มต้นและวันสิ้นสุดโครงการ\r\n",
    "2. get_similarity คำนวณแบบตัดเปรียบเทียบ\r\n",
    "- masterplan : ตัวเลขที่บ้งบอกว่าโครงการนั้นมันเหมือนกันรึเปล่า \r\n",
    "- name :  ชื่อโครงการภาษาไทย \r\n",
    "- target_group : กลุ่มเป้าหมาย\r\n",
    "- expected_results : ผลที่คาดหวัง\r\n",
    "- outcome : เป้าหมายเชิงผลลัพธ์\r\n",
    "3. sameornot ใช้กับข้อมูลที่ตายตัว\r\n",
    "- expenditure : ลักษณะโครงการ \r\n",
    "- method : วิธีการดำเนินการ"
   ],
   "metadata": {}
  },
  {
   "cell_type": "code",
   "execution_count": 32,
   "source": [
    "def notmasterplan(name_project_input1,name_project_input2):\r\n",
    "\r\n",
    "    count_date(name_project_input1,name_project_input2)\r\n",
    "    list_count_1.append(count_date(name_project_input1,name_project_input2))\r\n",
    "        \r\n",
    "    get_similarity(document_drop.name[name_project_input1],document_drop.name[name_project_input2])\r\n",
    "    list_count_1.append(float(get_similarity(document_drop.name[name_project_input1],document_drop.name[name_project_input2])))\r\n",
    "\r\n",
    "    sameornot(document_drop.expenditure[name_project_input1],document_drop.expenditure[name_project_input2])\r\n",
    "    list_count_1.append(sameornot(document_drop.expenditure[name_project_input1],document_drop.expenditure[name_project_input2]))\r\n",
    "\r\n",
    "    sameornot(document_drop.method[name_project_input1],document_drop.method[name_project_input2])\r\n",
    "    list_count_1.append(sameornot(document_drop.method[name_project_input1],document_drop.method[name_project_input2]))\r\n",
    "\r\n",
    "    get_similarity(document_drop.target_group[name_project_input1],document_drop.target_group[name_project_input2])\r\n",
    "    list_count_1.append(float(get_similarity(document_drop.target_group[name_project_input1],document_drop.target_group[name_project_input2])))\r\n",
    "\r\n",
    "    get_similarity(document_drop.expected_results[name_project_input1],document_drop.expected_results[name_project_input2])\r\n",
    "    list_count_1.append(float(get_similarity(document_drop.expected_results[name_project_input1],document_drop.expected_results[name_project_input2])))\r\n",
    "\r\n",
    "    get_similarity(document_drop.outcome[name_project_input1],document_drop.outcome[name_project_input2])\r\n",
    "    list_count_1.append(float(get_similarity(document_drop.outcome[name_project_input1],document_drop.outcome[name_project_input2])))\r\n",
    "\r\n",
    "\r\n",
    "    return \"------------------------------------------------------\""
   ],
   "outputs": [],
   "metadata": {}
  },
  {
   "cell_type": "markdown",
   "source": [
    "## Function similarity else by sum list divide len list\r\n",
    "\r\n",
    "ใช้สำหรับคำนวณเพื่อสรุปค่าความคล้ายกันของโครงการทั้ง 2 "
   ],
   "metadata": {}
  },
  {
   "cell_type": "code",
   "execution_count": 33,
   "source": [
    "def sumsim():\r\n",
    "    \r\n",
    "    list_count = []\r\n",
    "    for i in list_count_1:\r\n",
    "        i = float(i)\r\n",
    "        list_count.append(i) \r\n",
    "    sumlist = sum(list_count)\r\n",
    "    simpro = sumlist/len(list_count)\r\n",
    "\r\n",
    "    return simpro"
   ],
   "outputs": [],
   "metadata": {}
  },
  {
   "cell_type": "markdown",
   "source": [
    "ตัวอย่างการใช้โค้ด \r\n",
    "\r\n",
    "** แนะนำให้รันโค้ดด้านล่างก่อน โค้ดหลักที่ใช้ **"
   ],
   "metadata": {}
  },
  {
   "cell_type": "code",
   "execution_count": 28,
   "source": [
    "print(f\"Similarity of 2 Projects : {sumsim()}\")"
   ],
   "outputs": [
    {
     "output_type": "stream",
     "name": "stdout",
     "text": [
      "Similarity of 2 Projects : 0.21362873358941506\n"
     ]
    }
   ],
   "metadata": {}
  },
  {
   "cell_type": "markdown",
   "source": [
    "## Function same or not same project\r\n",
    "\r\n",
    "ใช้สรุปว่า 2 โครงการที่ได้นำมาเปรียบเทียบกันนั้น เหมือน หรือ ไม่เหมือน"
   ],
   "metadata": {}
  },
  {
   "cell_type": "code",
   "execution_count": 34,
   "source": [
    "def sameor():\r\n",
    "    \r\n",
    "    list_count = []\r\n",
    "    for i in list_count_1:\r\n",
    "        i = float(i)\r\n",
    "        list_count.append(i)\r\n",
    "    sumlist = sum(list_count)\r\n",
    "    simpro = sumlist/len(list_count)\r\n",
    "    \r\n",
    "    if simpro >= 0.5 :\r\n",
    "        print(f'Similarity between 2 projects : same')\r\n",
    "    else : \r\n",
    "        print(f'Similarity between 2 projects : not same')  \r\n",
    "\r\n",
    "    return  ' '"
   ],
   "outputs": [],
   "metadata": {}
  },
  {
   "cell_type": "markdown",
   "source": [
    "ตัวอย่างการใช้โค้ด\r\n",
    "\r\n",
    "** แนะนำให้รันโค้ดด้านล่างก่อน โค้ดหลักที่ใช้ **"
   ],
   "metadata": {}
  },
  {
   "cell_type": "code",
   "execution_count": 29,
   "source": [
    "sameor()"
   ],
   "outputs": [
    {
     "output_type": "stream",
     "name": "stdout",
     "text": [
      "Similarity between 2 projects : not same\n"
     ]
    },
    {
     "output_type": "execute_result",
     "data": {
      "text/plain": [
       "' '"
      ]
     },
     "metadata": {},
     "execution_count": 29
    }
   ],
   "metadata": {}
  },
  {
   "cell_type": "markdown",
   "source": [
    "\r\n",
    "### มุมมองภาพรวมใช้ columns ดังนี้\r\n",
    "\r\n",
    "#### ช่วงที่ใช้ get_similarity คำนวณแบบตัดเปรียบเทียบ\r\n",
    "\r\n",
    "- masterplan : ตัวเลขที่บ้งบอกว่าโครงการนั้นมันเหมือนกันรึเปล่า \r\n",
    "- name : ชื่อโครงการภาษาไทย \r\n",
    "- target_group : กลุ่มเป้าหมาย\r\n",
    "- expected_results : ผลที่คาดหวัง\r\n",
    "- outcome : เป้าหมายเชิงผลลัพธ์ \r\n",
    "\r\n",
    "#### ช่วงที่ใช้การคำนวณ count_date เปรียบเทียบจำนวนวัน\r\n",
    "\r\n",
    "- start_date  , end_date : วันเริ่มต้นและวันสิ้นสุดโครงการ\r\n",
    "\r\n",
    "#### ช่วงที่ใช้เปรียบเทียบแบบตรวจสอบคำตอบมาเลยเนื่องจากคำตอบตายตัว\r\n",
    "\r\n",
    "- expenditure : ลักษณะโครงการ \r\n",
    "- method : วิธีการดำเนินการ \r\n",
    "\r\n",
    "##### ตัว test : sdu6701-61-0004 , nacc003432-61-0001 ซึ่งเป็นโครงการที่ต่างกันทั้ง masterplan และรูปแบบของโครงการ"
   ],
   "metadata": {}
  },
  {
   "cell_type": "markdown",
   "source": [
    "list เก็บค่าที่เราคำนวณได้ \r\n",
    "\r\n",
    "**** คำเตือน กรุณากดรันใหม่ทุกรอบที่คุณจะใช้ :)  ****"
   ],
   "metadata": {}
  },
  {
   "cell_type": "code",
   "execution_count": 35,
   "source": [
    "list_count_1 = [] # list for count "
   ],
   "outputs": [],
   "metadata": {}
  },
  {
   "cell_type": "code",
   "execution_count": 36,
   "source": [
    "def similarcode():    \r\n",
    "\r\n",
    "    name_project_input1 = input('input your code name english : ') # nacc003432-61-0001\r\n",
    "    name_project_input2 = input('input your code name english : ') # sdu6701-61-0004\r\n",
    "\r\n",
    "    # get input when two input are same \r\n",
    "    while name_project_input1 == name_project_input2:\r\n",
    "            name_project_input1 = input('input your code name english : ') \r\n",
    "            name_project_input2 = input('input your code name english : ') \r\n",
    "\r\n",
    "    # show name project\r\n",
    "    print(f\"{name_project_input1} : {document_drop.name[name_project_input1]}\")\r\n",
    "    print(f\"{name_project_input2} : {document_drop.name[name_project_input2]}\")\r\n",
    "    print(\" \")\r\n",
    "\r\n",
    "    if document_drop.loc[name_project_input1][14].get(\"masterplan\") == document_drop.loc[name_project_input2][14].get(\"masterplan\"):\r\n",
    "\r\n",
    "        list_count_1.append(1)\r\n",
    "        \r\n",
    "    else :\r\n",
    "\r\n",
    "        notmasterplan(name_project_input1,name_project_input2)\r\n",
    "\r\n",
    "        print(\"------------------------------------------------------\")\r\n",
    "        print(\" \")\r\n",
    "\r\n",
    "        sumtable(name_project_input1,name_project_input2)\r\n",
    " \r\n",
    "    print(\" \")\r\n",
    "    print(\"------------------------------------------------------\")\r\n",
    "    print(\" \")\r\n",
    "    print(f\"Similarity of 2 Projects : {sumsim()}\")\r\n",
    "    print(sameor())\r\n",
    "    print(\"------------------------------------------------------\")\r\n",
    "    print(\" \")\r\n",
    "    print(f\"Table compare data of {document_drop.name[name_project_input1]} and {document_drop.name[name_project_input2]}\")\r\n",
    "    return  document_drop.loc[[name_project_input1,name_project_input2],['name', 'area_description','objective',\r\n",
    "    'rationale','expected_results','outcome','output','expenditure','target_group','method','start_date','end_date','budget_sum']]"
   ],
   "outputs": [],
   "metadata": {}
  },
  {
   "cell_type": "markdown",
   "source": [
    "ตัวอย่างการใช้โค้ด"
   ],
   "metadata": {}
  },
  {
   "cell_type": "code",
   "execution_count": 37,
   "source": [
    "similarcode()"
   ],
   "outputs": [
    {
     "output_type": "stream",
     "name": "stdout",
     "text": [
      "sdu6701-61-0004 : โครงการบริการวิชาการบนพื้นฐานความตระหนักในความรับผิดชอบต่อสังคม\n",
      "nacc003432-61-0001 : โครงการวันต่อต้านคอร์รัปชันสากล วันที่ 9 ธันวาคม 2560\n",
      " \n",
      "------------------------------------------------------\n",
      " \n",
      "{'target_group': 0.3706246583305506, 'outcome': 0.09245003270420486, 'date': 0.03232644409114993, 'name': 0.0, 'expected_results': 0.0, 'expendingture': 1.0, 'method': 0.0}\n",
      " \n",
      "------------------------------------------------------\n",
      " \n",
      "เกี่ยวข้องกันมากที่สุดในแง่มุม : target_group โดยมีคะแนนเท่ากับ 0.3706246583305506\n",
      "target_group overlap : ['นักเรียน', 'นักศึกษา', 'บุคลากร', 'การศึกษา', 'ประชาชน']\n",
      " \n",
      "------------------------------------------------------\n",
      " \n",
      "Similarity of 2 Projects : 0.21362873358941506\n",
      "Similarity between 2 projects : not same\n",
      " \n",
      "------------------------------------------------------\n",
      " \n",
      "Table compare data of โครงการบริการวิชาการบนพื้นฐานความตระหนักในความรับผิดชอบต่อสังคม and โครงการวันต่อต้านคอร์รัปชันสากล วันที่ 9 ธันวาคม 2560\n"
     ]
    },
    {
     "output_type": "execute_result",
     "data": {
      "text/plain": [
       "                                                                               name  \\\n",
       "code_en                                                                               \n",
       "sdu6701-61-0004     โครงการบริการวิชาการบนพื้นฐานความตระหนักในความรับผิดชอบต่อสังคม   \n",
       "nacc003432-61-0001            โครงการวันต่อต้านคอร์รัปชันสากล วันที่ 9 ธันวาคม 2560   \n",
       "\n",
       "                                                                         area_description  \\\n",
       "code_en                                                                                     \n",
       "sdu6701-61-0004                                         มหาวิทยาลัยสวนดุสิต กรุงเทพมหานคร   \n",
       "nacc003432-61-0001  สำนักงาน ป.ป.ช. ประจำจังหวัดอุบลราชธานี ได้จัดกิจกรรมวันต่อต้านคอร...   \n",
       "\n",
       "                                                                                objective  \\\n",
       "code_en                                                                                     \n",
       "sdu6701-61-0004     เพื่อให้บริการวิชาการบนพื้นฐานความเชี่ยวชาญของมหาวิทยาลัย และสนับส...   \n",
       "nacc003432-61-0001  2.1 เพื่อกระตุ้นเตือนให้สังคมและทุกภาคส่วน ตระหนักในผลเสียหายร้ายแ...   \n",
       "\n",
       "                                                                                rationale  \\\n",
       "code_en                                                                                     \n",
       "sdu6701-61-0004     มหาวิทยาลัยสวนดุสิต เป็นสถาบันการศึกษาทางวิชาการและวิชาชีพชั้นสูง ...   \n",
       "nacc003432-61-0001  ปัญหาการทุจริตคอร์รัปชันเป็นอาชญากรรมข้ามชาติที่ประเทศต่างๆ ทั่วโล...   \n",
       "\n",
       "                                                                         expected_results  \\\n",
       "code_en                                                                                     \n",
       "sdu6701-61-0004     นักเรียน นักศึกษา ครู บุคลากรทางการศึกษา และประชาชนทั่วไป ได้รับกา...   \n",
       "nacc003432-61-0001  1. สังคมและทุกภาคส่วน ตระหนักในผลเสียหายร้ายแรงที่เกิดขึ้นจาการทุจ...   \n",
       "\n",
       "                                                                                  outcome  \\\n",
       "code_en                                                                                     \n",
       "sdu6701-61-0004     เป้าหมายเชิงคุณภาพ : ผู้เข้ารับบริการได้รับความรู้ มีความเข้าใจ ใน...   \n",
       "nacc003432-61-0001  ระดับค่าความตระหนักรู้และมีจิตสำนึกไม่ทนต่อการทุจริตไม่น้อยกว่าร้อ...   \n",
       "\n",
       "                                                                                   output  \\\n",
       "code_en                                                                                     \n",
       "sdu6701-61-0004     เป้าหมายเชิงปริมาณ : จำนวนโครงการที่มีการประสานประโยชน์จากความร่วม...   \n",
       "nacc003432-61-0001  ภาคีเครือข่ายหน่วยงานภาครัฐ ภาคีเครือข่่ายหน่วยงานภาคเอกชน ภาคีเคร...   \n",
       "\n",
       "                              expenditure  \\\n",
       "code_en                                     \n",
       "sdu6701-61-0004     โครงการที่ใช้งบประมาณ   \n",
       "nacc003432-61-0001  โครงการที่ใช้งบประมาณ   \n",
       "\n",
       "                                                                             target_group  \\\n",
       "code_en                                                                                     \n",
       "sdu6701-61-0004                 นักเรียน นักศึกษา ครู บุคลากรทางการศึกษา และประชาชนทั่วไป   \n",
       "nacc003432-61-0001  1. นักเรียน นิสิต นักศึกษา สถาบันการศึกษาและบุคลากรทางการศึกษา\\n2....   \n",
       "\n",
       "                                     method  start_date    end_date budget_sum  \n",
       "code_en                                                                         \n",
       "sdu6701-61-0004                ดำเนินการเอง  2560-10-01  2565-09-01  167711000  \n",
       "nacc003432-61-0001  ดำเนินการเอง และจัดจ้าง  2560-10-01  2560-12-01     110000  "
      ],
      "text/html": [
       "<div>\n",
       "<style scoped>\n",
       "    .dataframe tbody tr th:only-of-type {\n",
       "        vertical-align: middle;\n",
       "    }\n",
       "\n",
       "    .dataframe tbody tr th {\n",
       "        vertical-align: top;\n",
       "    }\n",
       "\n",
       "    .dataframe thead th {\n",
       "        text-align: right;\n",
       "    }\n",
       "</style>\n",
       "<table border=\"1\" class=\"dataframe\">\n",
       "  <thead>\n",
       "    <tr style=\"text-align: right;\">\n",
       "      <th></th>\n",
       "      <th>name</th>\n",
       "      <th>area_description</th>\n",
       "      <th>objective</th>\n",
       "      <th>rationale</th>\n",
       "      <th>expected_results</th>\n",
       "      <th>outcome</th>\n",
       "      <th>output</th>\n",
       "      <th>expenditure</th>\n",
       "      <th>target_group</th>\n",
       "      <th>method</th>\n",
       "      <th>start_date</th>\n",
       "      <th>end_date</th>\n",
       "      <th>budget_sum</th>\n",
       "    </tr>\n",
       "    <tr>\n",
       "      <th>code_en</th>\n",
       "      <th></th>\n",
       "      <th></th>\n",
       "      <th></th>\n",
       "      <th></th>\n",
       "      <th></th>\n",
       "      <th></th>\n",
       "      <th></th>\n",
       "      <th></th>\n",
       "      <th></th>\n",
       "      <th></th>\n",
       "      <th></th>\n",
       "      <th></th>\n",
       "      <th></th>\n",
       "    </tr>\n",
       "  </thead>\n",
       "  <tbody>\n",
       "    <tr>\n",
       "      <th>sdu6701-61-0004</th>\n",
       "      <td>โครงการบริการวิชาการบนพื้นฐานความตระหนักในความรับผิดชอบต่อสังคม</td>\n",
       "      <td>มหาวิทยาลัยสวนดุสิต กรุงเทพมหานคร</td>\n",
       "      <td>เพื่อให้บริการวิชาการบนพื้นฐานความเชี่ยวชาญของมหาวิทยาลัย และสนับส...</td>\n",
       "      <td>มหาวิทยาลัยสวนดุสิต เป็นสถาบันการศึกษาทางวิชาการและวิชาชีพชั้นสูง ...</td>\n",
       "      <td>นักเรียน นักศึกษา ครู บุคลากรทางการศึกษา และประชาชนทั่วไป ได้รับกา...</td>\n",
       "      <td>เป้าหมายเชิงคุณภาพ : ผู้เข้ารับบริการได้รับความรู้ มีความเข้าใจ ใน...</td>\n",
       "      <td>เป้าหมายเชิงปริมาณ : จำนวนโครงการที่มีการประสานประโยชน์จากความร่วม...</td>\n",
       "      <td>โครงการที่ใช้งบประมาณ</td>\n",
       "      <td>นักเรียน นักศึกษา ครู บุคลากรทางการศึกษา และประชาชนทั่วไป</td>\n",
       "      <td>ดำเนินการเอง</td>\n",
       "      <td>2560-10-01</td>\n",
       "      <td>2565-09-01</td>\n",
       "      <td>167711000</td>\n",
       "    </tr>\n",
       "    <tr>\n",
       "      <th>nacc003432-61-0001</th>\n",
       "      <td>โครงการวันต่อต้านคอร์รัปชันสากล วันที่ 9 ธันวาคม 2560</td>\n",
       "      <td>สำนักงาน ป.ป.ช. ประจำจังหวัดอุบลราชธานี ได้จัดกิจกรรมวันต่อต้านคอร...</td>\n",
       "      <td>2.1 เพื่อกระตุ้นเตือนให้สังคมและทุกภาคส่วน ตระหนักในผลเสียหายร้ายแ...</td>\n",
       "      <td>ปัญหาการทุจริตคอร์รัปชันเป็นอาชญากรรมข้ามชาติที่ประเทศต่างๆ ทั่วโล...</td>\n",
       "      <td>1. สังคมและทุกภาคส่วน ตระหนักในผลเสียหายร้ายแรงที่เกิดขึ้นจาการทุจ...</td>\n",
       "      <td>ระดับค่าความตระหนักรู้และมีจิตสำนึกไม่ทนต่อการทุจริตไม่น้อยกว่าร้อ...</td>\n",
       "      <td>ภาคีเครือข่ายหน่วยงานภาครัฐ ภาคีเครือข่่ายหน่วยงานภาคเอกชน ภาคีเคร...</td>\n",
       "      <td>โครงการที่ใช้งบประมาณ</td>\n",
       "      <td>1. นักเรียน นิสิต นักศึกษา สถาบันการศึกษาและบุคลากรทางการศึกษา\\n2....</td>\n",
       "      <td>ดำเนินการเอง และจัดจ้าง</td>\n",
       "      <td>2560-10-01</td>\n",
       "      <td>2560-12-01</td>\n",
       "      <td>110000</td>\n",
       "    </tr>\n",
       "  </tbody>\n",
       "</table>\n",
       "</div>"
      ]
     },
     "metadata": {},
     "execution_count": 37
    }
   ],
   "metadata": {}
  },
  {
   "cell_type": "markdown",
   "source": [
    "ตัวอย่างการใช้โค้ด กรณี masterplan เหมือนกัน\r\n",
    "ตัว test : nacc003432-61-0001 กับ nacc003441-61-0001"
   ],
   "metadata": {}
  },
  {
   "cell_type": "code",
   "execution_count": 44,
   "source": [
    "similarcode()"
   ],
   "outputs": [
    {
     "output_type": "stream",
     "name": "stdout",
     "text": [
      "nacc003441-61-0001 : โครงการการจัดงานวันต่อต้านคอร์รัปชันสากลประเทศไทย วันที่ 9 ธันวาคม 2560 (จังหวัดนนทบุรี)\n",
      "nacc003432-61-0001 : โครงการวันต่อต้านคอร์รัปชันสากล วันที่ 9 ธันวาคม 2560\n",
      " \n",
      " \n",
      "------------------------------------------------------\n",
      " \n",
      "Similarity of 2 Projects : 1.0\n",
      "Similarity between 2 projects : same\n",
      " \n",
      "------------------------------------------------------\n",
      " \n",
      "Table compare data of โครงการการจัดงานวันต่อต้านคอร์รัปชันสากลประเทศไทย วันที่ 9 ธันวาคม 2560 (จังหวัดนนทบุรี) and โครงการวันต่อต้านคอร์รัปชันสากล วันที่ 9 ธันวาคม 2560\n"
     ]
    },
    {
     "output_type": "execute_result",
     "data": {
      "text/plain": [
       "                                                                                     name  \\\n",
       "code_en                                                                                     \n",
       "nacc003441-61-0001  โครงการการจัดงานวันต่อต้านคอร์รัปชันสากลประเทศไทย วันที่ 9 ธันวาคม...   \n",
       "nacc003432-61-0001                  โครงการวันต่อต้านคอร์รัปชันสากล วันที่ 9 ธันวาคม 2560   \n",
       "\n",
       "                                                                         area_description  \\\n",
       "code_en                                                                                     \n",
       "nacc003441-61-0001                                                         จังหวัดนนทบุรี   \n",
       "nacc003432-61-0001  สำนักงาน ป.ป.ช. ประจำจังหวัดอุบลราชธานี ได้จัดกิจกรรมวันต่อต้านคอร...   \n",
       "\n",
       "                                                                                objective  \\\n",
       "code_en                                                                                     \n",
       "nacc003441-61-0001  1. เพื่อกระตุ้นเตือนให้สังคมและทุกภาคส่วน ตระหนักในผลเสียหายร้ายแร...   \n",
       "nacc003432-61-0001  2.1 เพื่อกระตุ้นเตือนให้สังคมและทุกภาคส่วน ตระหนักในผลเสียหายร้ายแ...   \n",
       "\n",
       "                                                                                rationale  \\\n",
       "code_en                                                                                     \n",
       "nacc003441-61-0001  ปัญหาการทุจริตคอร์รัปชันเป็นอาชญากรรมข้ามชาติที่ประเทศต่างๆ ทั่วโล...   \n",
       "nacc003432-61-0001  ปัญหาการทุจริตคอร์รัปชันเป็นอาชญากรรมข้ามชาติที่ประเทศต่างๆ ทั่วโล...   \n",
       "\n",
       "                                                                         expected_results  \\\n",
       "code_en                                                                                     \n",
       "nacc003441-61-0001  1. สังคมและทุกภาคส่วน ตระหนักในผลเสียหายร้ายแรงที่เกิดขึ้นจากการทุ...   \n",
       "nacc003432-61-0001  1. สังคมและทุกภาคส่วน ตระหนักในผลเสียหายร้ายแรงที่เกิดขึ้นจาการทุจ...   \n",
       "\n",
       "                                                                                  outcome  \\\n",
       "code_en                                                                                     \n",
       "nacc003441-61-0001  ระดับค่าความตระหนักรู้และมีจิตสำนึกไม่ทนต่อการทุจริตในสังคม ไม่น้อ...   \n",
       "nacc003432-61-0001  ระดับค่าความตระหนักรู้และมีจิตสำนึกไม่ทนต่อการทุจริตไม่น้อยกว่าร้อ...   \n",
       "\n",
       "                                                                                   output  \\\n",
       "code_en                                                                                     \n",
       "nacc003441-61-0001  นักเรียน นิสิต นักศึกษา ประชาชน ภาครัฐและเอกชน ภาคีเครือข่าย และสื...   \n",
       "nacc003432-61-0001  ภาคีเครือข่ายหน่วยงานภาครัฐ ภาคีเครือข่่ายหน่วยงานภาคเอกชน ภาคีเคร...   \n",
       "\n",
       "                              expenditure  \\\n",
       "code_en                                     \n",
       "nacc003441-61-0001  โครงการที่ใช้งบประมาณ   \n",
       "nacc003432-61-0001  โครงการที่ใช้งบประมาณ   \n",
       "\n",
       "                                                                             target_group  \\\n",
       "code_en                                                                                     \n",
       "nacc003441-61-0001  นักเรียน นิสิต นักศึกษา ประชาชน ภาครัฐและเอกชน ภาคีเครือข่าย และสื...   \n",
       "nacc003432-61-0001  1. นักเรียน นิสิต นักศึกษา สถาบันการศึกษาและบุคลากรทางการศึกษา\\n2....   \n",
       "\n",
       "                                     method  start_date    end_date budget_sum  \n",
       "code_en                                                                         \n",
       "nacc003441-61-0001             ดำเนินการเอง  2560-10-01  2561-09-01     110000  \n",
       "nacc003432-61-0001  ดำเนินการเอง และจัดจ้าง  2560-10-01  2560-12-01     110000  "
      ],
      "text/html": [
       "<div>\n",
       "<style scoped>\n",
       "    .dataframe tbody tr th:only-of-type {\n",
       "        vertical-align: middle;\n",
       "    }\n",
       "\n",
       "    .dataframe tbody tr th {\n",
       "        vertical-align: top;\n",
       "    }\n",
       "\n",
       "    .dataframe thead th {\n",
       "        text-align: right;\n",
       "    }\n",
       "</style>\n",
       "<table border=\"1\" class=\"dataframe\">\n",
       "  <thead>\n",
       "    <tr style=\"text-align: right;\">\n",
       "      <th></th>\n",
       "      <th>name</th>\n",
       "      <th>area_description</th>\n",
       "      <th>objective</th>\n",
       "      <th>rationale</th>\n",
       "      <th>expected_results</th>\n",
       "      <th>outcome</th>\n",
       "      <th>output</th>\n",
       "      <th>expenditure</th>\n",
       "      <th>target_group</th>\n",
       "      <th>method</th>\n",
       "      <th>start_date</th>\n",
       "      <th>end_date</th>\n",
       "      <th>budget_sum</th>\n",
       "    </tr>\n",
       "    <tr>\n",
       "      <th>code_en</th>\n",
       "      <th></th>\n",
       "      <th></th>\n",
       "      <th></th>\n",
       "      <th></th>\n",
       "      <th></th>\n",
       "      <th></th>\n",
       "      <th></th>\n",
       "      <th></th>\n",
       "      <th></th>\n",
       "      <th></th>\n",
       "      <th></th>\n",
       "      <th></th>\n",
       "      <th></th>\n",
       "    </tr>\n",
       "  </thead>\n",
       "  <tbody>\n",
       "    <tr>\n",
       "      <th>nacc003441-61-0001</th>\n",
       "      <td>โครงการการจัดงานวันต่อต้านคอร์รัปชันสากลประเทศไทย วันที่ 9 ธันวาคม...</td>\n",
       "      <td>จังหวัดนนทบุรี</td>\n",
       "      <td>1. เพื่อกระตุ้นเตือนให้สังคมและทุกภาคส่วน ตระหนักในผลเสียหายร้ายแร...</td>\n",
       "      <td>ปัญหาการทุจริตคอร์รัปชันเป็นอาชญากรรมข้ามชาติที่ประเทศต่างๆ ทั่วโล...</td>\n",
       "      <td>1. สังคมและทุกภาคส่วน ตระหนักในผลเสียหายร้ายแรงที่เกิดขึ้นจากการทุ...</td>\n",
       "      <td>ระดับค่าความตระหนักรู้และมีจิตสำนึกไม่ทนต่อการทุจริตในสังคม ไม่น้อ...</td>\n",
       "      <td>นักเรียน นิสิต นักศึกษา ประชาชน ภาครัฐและเอกชน ภาคีเครือข่าย และสื...</td>\n",
       "      <td>โครงการที่ใช้งบประมาณ</td>\n",
       "      <td>นักเรียน นิสิต นักศึกษา ประชาชน ภาครัฐและเอกชน ภาคีเครือข่าย และสื...</td>\n",
       "      <td>ดำเนินการเอง</td>\n",
       "      <td>2560-10-01</td>\n",
       "      <td>2561-09-01</td>\n",
       "      <td>110000</td>\n",
       "    </tr>\n",
       "    <tr>\n",
       "      <th>nacc003432-61-0001</th>\n",
       "      <td>โครงการวันต่อต้านคอร์รัปชันสากล วันที่ 9 ธันวาคม 2560</td>\n",
       "      <td>สำนักงาน ป.ป.ช. ประจำจังหวัดอุบลราชธานี ได้จัดกิจกรรมวันต่อต้านคอร...</td>\n",
       "      <td>2.1 เพื่อกระตุ้นเตือนให้สังคมและทุกภาคส่วน ตระหนักในผลเสียหายร้ายแ...</td>\n",
       "      <td>ปัญหาการทุจริตคอร์รัปชันเป็นอาชญากรรมข้ามชาติที่ประเทศต่างๆ ทั่วโล...</td>\n",
       "      <td>1. สังคมและทุกภาคส่วน ตระหนักในผลเสียหายร้ายแรงที่เกิดขึ้นจาการทุจ...</td>\n",
       "      <td>ระดับค่าความตระหนักรู้และมีจิตสำนึกไม่ทนต่อการทุจริตไม่น้อยกว่าร้อ...</td>\n",
       "      <td>ภาคีเครือข่ายหน่วยงานภาครัฐ ภาคีเครือข่่ายหน่วยงานภาคเอกชน ภาคีเคร...</td>\n",
       "      <td>โครงการที่ใช้งบประมาณ</td>\n",
       "      <td>1. นักเรียน นิสิต นักศึกษา สถาบันการศึกษาและบุคลากรทางการศึกษา\\n2....</td>\n",
       "      <td>ดำเนินการเอง และจัดจ้าง</td>\n",
       "      <td>2560-10-01</td>\n",
       "      <td>2560-12-01</td>\n",
       "      <td>110000</td>\n",
       "    </tr>\n",
       "  </tbody>\n",
       "</table>\n",
       "</div>"
      ]
     },
     "metadata": {},
     "execution_count": 44
    }
   ],
   "metadata": {}
  },
  {
   "cell_type": "markdown",
   "source": [
    "ตัวอย่างการใช้โค้ด กรณี masterplan ต่างกันแต่โครงการเดียวกัน\r\n",
    "ตัว test : moe04009-63-0001 กับ moe04009-63-0032"
   ],
   "metadata": {}
  },
  {
   "cell_type": "code",
   "execution_count": 46,
   "source": [
    "similarcode()"
   ],
   "outputs": [
    {
     "output_type": "stream",
     "name": "stdout",
     "text": [
      "moe04009-63-0001 : ครูผู้ทรงคุณค่าแห่งแผ่นดิน  \n",
      "moe04009-63-0032 : ครูผู้ทรงคุณค่าแห่งแผ่นดิน \n",
      " \n",
      "------------------------------------------------------\n",
      " \n",
      "{'name': 1.0000000000000002, 'outcome': 1.0000000000000002, 'expected_results': 1.0, 'date': 1.0, 'target_group': 0.8333333333333335, 'expendingture': 1.0, 'method': 1.0}\n",
      " \n",
      "------------------------------------------------------\n",
      " \n",
      "เกี่ยวข้องกันมากที่สุดในแง่มุม : name โดยมีคะแนนเท่ากับ 1.0000000000000002\n",
      "name overlap : ['ครู', 'ทรงคุณค่า', 'แผ่นดิน']\n",
      " \n",
      "------------------------------------------------------\n",
      " \n",
      "Similarity of 2 Projects : 0.9761904761904763\n",
      "Similarity between 2 projects : same\n",
      " \n",
      "------------------------------------------------------\n",
      " \n",
      "Table compare data of ครูผู้ทรงคุณค่าแห่งแผ่นดิน   and ครูผู้ทรงคุณค่าแห่งแผ่นดิน \n"
     ]
    },
    {
     "output_type": "execute_result",
     "data": {
      "text/plain": [
       "                                          name area_description  \\\n",
       "code_en                                                           \n",
       "moe04009-63-0001  ครูผู้ทรงคุณค่าแห่งแผ่นดิน                      \n",
       "moe04009-63-0032   ครูผู้ทรงคุณค่าแห่งแผ่นดิน                     \n",
       "\n",
       "                                                                              objective  \\\n",
       "code_en                                                                                   \n",
       "moe04009-63-0001  เพื่อสรรหาครูดี ครูเก่ง ที่มีผลการสอนในเชิงประจักษ์ มีจิตวิญญาณควา...   \n",
       "moe04009-63-0032                     เพื่อสรรหาครูดี ครูเก่ง ที่มีผลการสอนในเชิงประจ...   \n",
       "\n",
       "                                                                              rationale  \\\n",
       "code_en                                                                                   \n",
       "moe04009-63-0001  \\tปัจจัยที่ส่งผลต่อคุณภาพของผู้เรียนที่สำคัญที่สุดคือ ครูที่มีคุณภ...   \n",
       "moe04009-63-0032  \\tปัจจัยที่ส่งผลต่อคุณภาพของผู้เรียนที่สำคัญที่สุดคือ ครูที่มีคุณภ...   \n",
       "\n",
       "                                                                       expected_results  \\\n",
       "code_en                                                                                   \n",
       "moe04009-63-0001  1. เกิดความต่อเนื่องในการจัดการเรียนรู้ไม่ขาดช่วงขาดตอน\\n2. เด็กได...   \n",
       "moe04009-63-0032                  1. เกิดความต่อเนื่องในการจัดการเรียนรู้ไม่ขาดช่วงข...   \n",
       "\n",
       "                                                                                outcome  \\\n",
       "code_en                                                                                   \n",
       "moe04009-63-0001  1. เกิดความต่อเนื่องในการจัดการเรียนรู้ ไม่ขาดช่วงขาดตอน\\n2. เด็กไ...   \n",
       "moe04009-63-0032   \\t\\t1. เกิดความต่อเนื่องในการจัดการเรียนรู้ ไม่ขาดช่วงขาดตอน\\n \\t...   \n",
       "\n",
       "                                                                                 output  \\\n",
       "code_en                                                                                   \n",
       "moe04009-63-0001  ร้อยละของผู้มีความรู้ ความสามารถ ทักษะ ตรงตามตำแหน่ง และครบตามจำนว...   \n",
       "moe04009-63-0032  ร้อยละของผู้มีความรู้ ความสามารถ ทักษะ ตรงตามตำแหน่ง และครบตามจำนว...   \n",
       "\n",
       "                            expenditure                        target_group  \\\n",
       "code_en                                                                       \n",
       "moe04009-63-0001  โครงการที่ใช้งบประมาณ  ครูเกษียณอายุราชการ จำนวน 5,400 คน   \n",
       "moe04009-63-0032  โครงการที่ใช้งบประมาณ  ครูเกษียณอายุราชการ จำนวน 3,600 คน   \n",
       "\n",
       "                        method  start_date    end_date budget_sum  \n",
       "code_en                                                            \n",
       "moe04009-63-0001  ดำเนินการเอง  2561-10-01  2562-09-01  855000000  \n",
       "moe04009-63-0032  ดำเนินการเอง  2562-10-01  2563-09-01  573750000  "
      ],
      "text/html": [
       "<div>\n",
       "<style scoped>\n",
       "    .dataframe tbody tr th:only-of-type {\n",
       "        vertical-align: middle;\n",
       "    }\n",
       "\n",
       "    .dataframe tbody tr th {\n",
       "        vertical-align: top;\n",
       "    }\n",
       "\n",
       "    .dataframe thead th {\n",
       "        text-align: right;\n",
       "    }\n",
       "</style>\n",
       "<table border=\"1\" class=\"dataframe\">\n",
       "  <thead>\n",
       "    <tr style=\"text-align: right;\">\n",
       "      <th></th>\n",
       "      <th>name</th>\n",
       "      <th>area_description</th>\n",
       "      <th>objective</th>\n",
       "      <th>rationale</th>\n",
       "      <th>expected_results</th>\n",
       "      <th>outcome</th>\n",
       "      <th>output</th>\n",
       "      <th>expenditure</th>\n",
       "      <th>target_group</th>\n",
       "      <th>method</th>\n",
       "      <th>start_date</th>\n",
       "      <th>end_date</th>\n",
       "      <th>budget_sum</th>\n",
       "    </tr>\n",
       "    <tr>\n",
       "      <th>code_en</th>\n",
       "      <th></th>\n",
       "      <th></th>\n",
       "      <th></th>\n",
       "      <th></th>\n",
       "      <th></th>\n",
       "      <th></th>\n",
       "      <th></th>\n",
       "      <th></th>\n",
       "      <th></th>\n",
       "      <th></th>\n",
       "      <th></th>\n",
       "      <th></th>\n",
       "      <th></th>\n",
       "    </tr>\n",
       "  </thead>\n",
       "  <tbody>\n",
       "    <tr>\n",
       "      <th>moe04009-63-0001</th>\n",
       "      <td>ครูผู้ทรงคุณค่าแห่งแผ่นดิน</td>\n",
       "      <td></td>\n",
       "      <td>เพื่อสรรหาครูดี ครูเก่ง ที่มีผลการสอนในเชิงประจักษ์ มีจิตวิญญาณควา...</td>\n",
       "      <td>\\tปัจจัยที่ส่งผลต่อคุณภาพของผู้เรียนที่สำคัญที่สุดคือ ครูที่มีคุณภ...</td>\n",
       "      <td>1. เกิดความต่อเนื่องในการจัดการเรียนรู้ไม่ขาดช่วงขาดตอน\\n2. เด็กได...</td>\n",
       "      <td>1. เกิดความต่อเนื่องในการจัดการเรียนรู้ ไม่ขาดช่วงขาดตอน\\n2. เด็กไ...</td>\n",
       "      <td>ร้อยละของผู้มีความรู้ ความสามารถ ทักษะ ตรงตามตำแหน่ง และครบตามจำนว...</td>\n",
       "      <td>โครงการที่ใช้งบประมาณ</td>\n",
       "      <td>ครูเกษียณอายุราชการ จำนวน 5,400 คน</td>\n",
       "      <td>ดำเนินการเอง</td>\n",
       "      <td>2561-10-01</td>\n",
       "      <td>2562-09-01</td>\n",
       "      <td>855000000</td>\n",
       "    </tr>\n",
       "    <tr>\n",
       "      <th>moe04009-63-0032</th>\n",
       "      <td>ครูผู้ทรงคุณค่าแห่งแผ่นดิน</td>\n",
       "      <td></td>\n",
       "      <td>เพื่อสรรหาครูดี ครูเก่ง ที่มีผลการสอนในเชิงประจ...</td>\n",
       "      <td>\\tปัจจัยที่ส่งผลต่อคุณภาพของผู้เรียนที่สำคัญที่สุดคือ ครูที่มีคุณภ...</td>\n",
       "      <td>1. เกิดความต่อเนื่องในการจัดการเรียนรู้ไม่ขาดช่วงข...</td>\n",
       "      <td>\\t\\t1. เกิดความต่อเนื่องในการจัดการเรียนรู้ ไม่ขาดช่วงขาดตอน\\n \\t...</td>\n",
       "      <td>ร้อยละของผู้มีความรู้ ความสามารถ ทักษะ ตรงตามตำแหน่ง และครบตามจำนว...</td>\n",
       "      <td>โครงการที่ใช้งบประมาณ</td>\n",
       "      <td>ครูเกษียณอายุราชการ จำนวน 3,600 คน</td>\n",
       "      <td>ดำเนินการเอง</td>\n",
       "      <td>2562-10-01</td>\n",
       "      <td>2563-09-01</td>\n",
       "      <td>573750000</td>\n",
       "    </tr>\n",
       "  </tbody>\n",
       "</table>\n",
       "</div>"
      ]
     },
     "metadata": {},
     "execution_count": 46
    }
   ],
   "metadata": {}
  },
  {
   "cell_type": "markdown",
   "source": [
    "## Summarize\r\n",
    "\r\n",
    "- จากการทดลองกับโครงการบางส่วนพบว่าสามารถใช้งานได้ปกติ อาจจะไม่ได้แม่นยำ 100% ปัญหาข้อมูลไม่ครบ ข้อมูลบางส่วนที่พิมพ์ผิด รูปแบบข้อมูลต่างกัน ใช้คำต่างกัน กรอกข้อมูลต่างกันและคำที่มีความหมายคล้ายกันแต่เขียนคนละรูปแบบเป็นปัจจัยหนึ่งที่ทำให้ความแม่นยำลดลง\r\n",
    "- การนำไปใช้ในอนาคต : สามารถนำโค้ดไปต่อยอดให้มีคุณสมบัติที่ครบถ้วนกว่านี้ได้ไม่ว่าจะในด้านแง่มุมที่หลากหลายขึ้น ด้านการใช้งานจริงอาจจะมีรูปแบบการใช้งานที่ง่ายกว่าเดิม โค้ดสั้นขึ้น เพื่อให้สามารถนำไปรันบนเว็บได้ในทันทีเหมือนเว็บเปรียบเทียบสินค้า"
   ],
   "metadata": {}
  }
 ],
 "metadata": {
  "orig_nbformat": 4,
  "language_info": {
   "name": "python",
   "version": "3.8.8",
   "mimetype": "text/x-python",
   "codemirror_mode": {
    "name": "ipython",
    "version": 3
   },
   "pygments_lexer": "ipython3",
   "nbconvert_exporter": "python",
   "file_extension": ".py"
  },
  "kernelspec": {
   "name": "python3",
   "display_name": "Python 3.8.8 64-bit ('base': conda)"
  },
  "interpreter": {
   "hash": "57cddac5ae9b7541513b871f8480362ac4870e8994976cf509c0e9c0207414d9"
  }
 },
 "nbformat": 4,
 "nbformat_minor": 2
}